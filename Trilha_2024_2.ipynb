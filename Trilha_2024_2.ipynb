{
  "cells": [
    {
      "cell_type": "markdown",
      "metadata": {
        "id": "view-in-github",
        "colab_type": "text"
      },
      "source": [
        "<a href=\"https://colab.research.google.com/github/yasownn/trilha_for_code_2024_2/blob/main/Trilha_2024_2.ipynb\" target=\"_parent\"><img src=\"https://colab.research.google.com/assets/colab-badge.svg\" alt=\"Open In Colab\"/></a>"
      ]
    },
    {
      "cell_type": "code",
      "execution_count": null,
      "metadata": {
        "id": "7kVuCdbfmqNA"
      },
      "outputs": [],
      "source": [
        "#Semana 0\n",
        "#Exercicio A\n",
        "#Importando linguagem\n",
        "import numpy as np\n",
        "\n",
        "#Definição da minha variável\n",
        "var1 = \"\"\"Python é uma linguagem de programação de alto nível, [5] interpretada de script, imperativa, orientada\n",
        "a objetos, funcional, de tipagem dinâmica e forte. Foi lançada por Guido van Rossum em 1991.[1] Atualmente, possui\n",
        "um modelo de desenvolvimento comunitário, aberto e gerenciado pela organização sem fins lucrativos Python Software\n",
        "Foundation. Apesar de várias partes da linguagem possuírem padrões e especificações formais, a linguagem,como um\n",
        "todo, não é formalmente especificada.O padrão na pratica é a implementação CPython. A linguagem foi projetada com\n",
        "a filosofia de enfatizar a importância do esforço do programador sobre o esforço computacional.Prioriza a legibilidade\n",
        "do código sobre a velocidade ou expressividade. Combina uma sintaxe concisa e clara com os recursos poderosos de sua\n",
        "biblioteca padrão e por módulos e frameworks desenvolvidos por terceiros\"\"\"\n",
        "\n",
        "#Mudança de \"Python\" para \"Fython\"\n",
        "print(var1.replace(\"Python\", \"Fython\"))"
      ]
    },
    {
      "cell_type": "code",
      "execution_count": null,
      "metadata": {
        "id": "0NrNNGuankAQ"
      },
      "outputs": [],
      "source": [
        "#Exercício B\n",
        "#Importando linguagem\n",
        "import numpy as np\n",
        "\n",
        "var2 = \"\"\"URU2, CRC5, SEN3, ESP10, WAL6, SRB5, BEL6, SEN7,\n",
        "ECU20, GER5, USA20, SEN16, URU7, AUS6, GER11, CMR12, ENG1,\n",
        "ECU8, WAL18, SEN12, URU19, ENG14, KSA18, FRA15,FWC2, CRC6,\n",
        "BRA8, BRA6, AUS3, IRN5, KSA4, CMR8, WAL4, CMR4, KOR9, POR11,\n",
        "URU13, CMR16,ARG15, TUN15, KOR13, DEN15, CRO13, USA4, GER4,\n",
        "ECU7, CRC20, POL20, QAT18, FWC3, DEN10,CMR1, NED6, BEL15,\n",
        "CAN12, FWC12, BEL9, KSA15, NED4, ESP20, ENG2, CRC2, TUN6,\n",
        "IRN12,ENG8, TUN7, MAR11, URU12, DEN20, BRA11, MEX10, MEX20,\n",
        "SUI16, ECU17, ESP15, MAR9, DEN12,MEX11, ARG18, KOR4, SUI3,\n",
        "FRA12, CAN10, POL15, MAR8, WAL10, ECU10, FRA16, FWC6, POL12,\n",
        "ECU13, MEX17, MAR20, FWC21, POR14, TUN3, BRA13, CRO15, GER1,\n",
        "AUS13, GHA18, URU6, MEX4,POR19, POR4\"\"\"\n",
        "\n",
        "#Obtendo uma lista\n",
        "var2 = var2.split()\n",
        "\n",
        "#Definindo ordem à lista\n",
        "var2.sort()\n",
        "\n",
        "#retornando lista em variável\n",
        "var2 = \"\".join(var2)\n",
        "print(var2)"
      ]
    },
    {
      "cell_type": "code",
      "execution_count": null,
      "metadata": {
        "id": "7jFeyXer8sqL"
      },
      "outputs": [],
      "source": [
        "#Semana 01\n",
        "#Exercício A\n",
        "\n",
        "import numpy as np\n",
        "import random #importação do módulo\n",
        "\n",
        "#definindo minhas variáveis\n",
        "vitoria_player1 = 0\n",
        "vitoria_player2 = 0\n",
        "\n",
        "#definindo uma lista\n",
        "choices = [\"pedra\", \"papel\", \"tesoura\"]\n",
        "\n",
        "#condição do loop\n",
        "while vitoria_player1 < 3 and vitoria_player2 < 3:\n",
        "  player1 = input(\"Sua vez (pedra, papel ou tesoura): \")\n",
        "\n",
        "  player2 = random.choice(choices)\n",
        "  print(\"Escolha do adversário:\", player2)\n",
        "\n",
        "  #condicionais\n",
        "  if player1 == player2:\n",
        "    print(\"Empate\")\n",
        "  elif (player1 == \"pedra\" and player2 == \"tesoura\") or (player1 == \"tesoura\" and player2 == \"papel\") or (player1 == \"papel\" and player2 == \"pedra\"):\n",
        "    vitoria_player1 += 1\n",
        "    print(\"Você Ganhou\")\n",
        "  else:\n",
        "      vitoria_player2 += 1\n",
        "      print(\"Adversário Ganhou\")\n",
        "\n",
        "\n",
        "\n",
        "\n"
      ]
    },
    {
      "cell_type": "code",
      "execution_count": null,
      "metadata": {
        "colab": {
          "background_save": true
        },
        "id": "oxhnvtpOAKAR"
      },
      "outputs": [],
      "source": [
        "#Semana 01\n",
        "#Exercício b\n",
        "\n",
        "#importação de módulos\n",
        "import numpy as np\n",
        "from math import log, e\n",
        "\n",
        "#definindo as variáveis\n",
        "n = 2\n",
        "somatorio = 0\n",
        "while True: #loop que se repete até ser interrompido\n",
        "  somatorio += 1/ (n*log(n, e)**2)\n",
        "  if somatorio == 2.1: #condição aplicada\n",
        "    break  #quebra do meu loop criado\n",
        "  n += 1\n",
        "  print(somatorio)\n",
        "  print(\"Final\")"
      ]
    },
    {
      "cell_type": "code",
      "source": [
        "#Semana 02\n",
        "#importação de módulo\n",
        "import numpy as np\n",
        "import random\n",
        "\n",
        "#definindo uma lista\n",
        "palavras = ['hackathon', 'figma', 'python']\n",
        "palavra_escolhida = random.choice(palavras)\n",
        "letras = []\n",
        "chances = 5\n",
        "\n",
        "#variavel para facilitar condicionais posteriores\n",
        "Ganhou = False\n",
        "\n",
        "#lógica para funcionamento do código\n",
        "while True:\n",
        "  for letra in palavra_escolhida:          #aplicando condições\n",
        "    if letra in letras:\n",
        "      print(letra, end=' ')                #end vai ser utilizado para melhor visualização das minhas letras\n",
        "    else:\n",
        "      print('_', end=' ')\n",
        "  print()\n",
        "  tentativa = input(\"Escolha uma letra: \")   #entrada da letra escolhida pelo usuário\n",
        "  letras.append(tentativa)                 #adição da minha letra escolhida à lista\n",
        "\n",
        " #lógica de perda\n",
        "  if tentativa not in palavra_escolhida:\n",
        "    chances -= 1\n",
        "    if chances == 0:\n",
        "      break\n",
        "\n",
        "#lógica de ganho\n",
        "  if all(letra in letras for letra in palavra_escolhida): #função all retorna True se as condições forem verdadeiras\n",
        "    Ganhou = True\n",
        "    break\n",
        "for letra in palavra_escolhida:\n",
        "  if letra not in letras:\n",
        "    Ganhou = False\n",
        "    if chances == 0 or Ganhou:\n",
        "       break\n",
        "\n",
        "if Ganhou:\n",
        "  print(f\"Parabéns! A palavra era: {palavra_escolhida}\")\n",
        "else:\n",
        "  print(f\"Que pena! A palavra era: {palavra_escolhida}\")\n",
        "\n"
      ],
      "metadata": {
        "id": "Qbrk0lT5w7Mh"
      },
      "execution_count": null,
      "outputs": []
    },
    {
      "cell_type": "code",
      "source": [
        "#Semana 03"
      ],
      "metadata": {
        "id": "stdULkNBL5U0"
      },
      "execution_count": null,
      "outputs": []
    }
  ],
  "metadata": {
    "colab": {
      "provenance": [],
      "authorship_tag": "ABX9TyN1Xg/mouaiBE2h9Wvwskh+",
      "include_colab_link": true
    },
    "kernelspec": {
      "display_name": "Python 3",
      "name": "python3"
    },
    "language_info": {
      "name": "python"
    }
  },
  "nbformat": 4,
  "nbformat_minor": 0
}